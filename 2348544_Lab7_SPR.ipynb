{
  "nbformat": 4,
  "nbformat_minor": 0,
  "metadata": {
    "colab": {
      "provenance": [],
      "authorship_tag": "ABX9TyMsM5FfMRsvFWQqZNRqLQc0",
      "include_colab_link": true
    },
    "kernelspec": {
      "name": "python3",
      "display_name": "Python 3"
    },
    "language_info": {
      "name": "python"
    }
  },
  "cells": [
    {
      "cell_type": "markdown",
      "metadata": {
        "id": "view-in-github",
        "colab_type": "text"
      },
      "source": [
        "<a href=\"https://colab.research.google.com/github/rahul-727/SPR-/blob/main/2348544_Lab7_SPR.ipynb\" target=\"_parent\"><img src=\"https://colab.research.google.com/assets/colab-badge.svg\" alt=\"Open In Colab\"/></a>"
      ]
    },
    {
      "cell_type": "markdown",
      "source": [
        "This program is an implementation of a Hidden Markov Model (HMM) for generating sequences of phonemes and their corresponding observations based on predefined probabilities.\n",
        "\n",
        "HMM\n",
        "* HMM is a statistical model used to represent systems that transition between states with certain probabilities.\n",
        "* It is \"hidden\" because the internal states (e.g., phonemes in this case) are not directly observable. Instead, we observe emissions (e.g., acoustic features like Energy, Pitch, Duration) generated from these states.\n"
      ],
      "metadata": {
        "id": "xp1AE0K_OEu9"
      }
    },
    {
      "cell_type": "code",
      "source": [
        "import numpy as np"
      ],
      "metadata": {
        "id": "X-rw5CwSMmxU"
      },
      "execution_count": 57,
      "outputs": []
    },
    {
      "cell_type": "markdown",
      "source": [
        "* Initial Prob - These define the starting likelihood of each phoneme.\n",
        "* Transition prob - These define the likelihood of transitioning from one phoneme to another.For example, if the current phoneme is /s/, the probability of transitioning to /p/ is 0.8, to /ie:/ is 0.1, and to /s/ again is 0.1.\n",
        "* Emission prob - Each phoneme emits an observation (Energy, Pitch, or Duration) with specific probabilities.\n",
        "For example, /s/ is most likely to emit Energy (probability 0.7), followed by Pitch (0.2) and Duration (0.1).\n",
        "\n"
      ],
      "metadata": {
        "id": "jU8ZCgvPOOG4"
      }
    },
    {
      "cell_type": "code",
      "source": [
        "# Define initial probabilities\n",
        "initial_probs = {\n",
        "    '/s/': 1.0,\n",
        "    '/p/': 0.0,\n",
        "    '/ie:/': 0.0,\n",
        "    '/tʃ/': 0.0\n",
        "}\n",
        "\n",
        "# Define transition probabilities\n",
        "transition_probs = {\n",
        "    '/s/': {'/s/': 0.1, '/p/': 0.8, '/ie:/': 0.1, '/tʃ/': 0.0},\n",
        "    '/p/': {'/s/': 0.0, '/p/': 0.1, '/ie:/': 0.8, '/tʃ/': 0.1},\n",
        "    '/ie:/': {'/s/': 0.0, '/p/': 0.0, '/ie:/': 0.2, '/tʃ/': 0.8},\n",
        "    '/tʃ/': {'/s/': 0.2, '/p/': 0.0, '/ie:/': 0.0, '/tʃ/': 0.8}\n",
        "}\n",
        "\n",
        "# Define emission probabilities\n",
        "emission_probs = {\n",
        "    '/s/': {'Energy': 0.7, 'Pitch': 0.2, 'Duration': 0.1},\n",
        "    '/p/': {'Energy': 0.5, 'Pitch': 0.3, 'Duration': 0.2},\n",
        "    '/ie:/': {'Energy': 0.3, 'Pitch': 0.5, 'Duration': 0.2},\n",
        "    '/tʃ/': {'Energy': 0.4, 'Pitch': 0.4, 'Duration': 0.2}\n",
        "}"
      ],
      "metadata": {
        "id": "xAploUHhMoeT"
      },
      "execution_count": 58,
      "outputs": []
    },
    {
      "cell_type": "code",
      "source": [
        "# Display the HMM parameters\n",
        "def display_matrices():\n",
        "    print(\"Initial Probabilities:\")\n",
        "    for phoneme, prob in initial_probs.items():\n",
        "        print(f\"{phoneme}: {prob}\")\n",
        "\n",
        "    print(\"\\nTransition Probabilities:\")\n",
        "    for from_phoneme, transitions in transition_probs.items():\n",
        "        print(f\"{from_phoneme}: {transitions}\")\n",
        "\n",
        "    print(\"\\nEmission Probabilities:\")\n",
        "    for phoneme, emissions in emission_probs.items():\n",
        "        print(f\"{phoneme}: {emissions}\")\n"
      ],
      "metadata": {
        "id": "8rflDs-WMq46"
      },
      "execution_count": 59,
      "outputs": []
    },
    {
      "cell_type": "code",
      "source": [
        "# Generate a phoneme sequence and corresponding observations\n",
        "def generate_sequence():\n",
        "    phonemes = list(initial_probs.keys())\n",
        "    current_phoneme = np.random.choice(phonemes, p=list(initial_probs.values()))\n",
        "    phoneme_sequence = [current_phoneme]\n",
        "    observation_sequence = []\n",
        "\n",
        "    for _ in range(3):\n",
        "        observation = np.random.choice(\n",
        "            ['Energy', 'Pitch', 'Duration'],\n",
        "            p=[\n",
        "                emission_probs[current_phoneme]['Energy'],\n",
        "                emission_probs[current_phoneme]['Pitch'],\n",
        "                emission_probs[current_phoneme]['Duration']\n",
        "            ]\n",
        "        )\n",
        "        observation_sequence.append(observation)\n",
        "\n",
        "        # Sample next phoneme based on transition probabilities\n",
        "        current_phoneme = np.random.choice(\n",
        "            phonemes,\n",
        "            p=[transition_probs[current_phoneme][next_phoneme] for next_phoneme in phonemes]\n",
        "        )\n",
        "        phoneme_sequence.append(current_phoneme)\n",
        "\n",
        "    return phoneme_sequence, observation_sequence"
      ],
      "metadata": {
        "id": "yLpID0XwMtOj"
      },
      "execution_count": 60,
      "outputs": []
    },
    {
      "cell_type": "code",
      "source": [
        "if __name__ == \"__main__\":\n",
        "    # Display matrices\n",
        "    display_matrices()\n",
        "\n",
        "    # Generate and print phoneme sequence\n",
        "    phoneme_sequence, observation_sequence = generate_sequence()\n",
        "    print(\"\\nGenerated Phoneme Sequence:\")\n",
        "    print(phoneme_sequence)\n",
        "\n",
        "    print(\"\\nGenerated Observation Sequence:\")\n",
        "    print(observation_sequence)\n"
      ],
      "metadata": {
        "colab": {
          "base_uri": "https://localhost:8080/"
        },
        "id": "LNpsA2-2L95S",
        "outputId": "01c4024c-1aa9-44d0-d4d3-fcaf2a4bb07d"
      },
      "execution_count": 61,
      "outputs": [
        {
          "output_type": "stream",
          "name": "stdout",
          "text": [
            "Initial Probabilities:\n",
            "/s/: 1.0\n",
            "/p/: 0.0\n",
            "/ie:/: 0.0\n",
            "/tʃ/: 0.0\n",
            "\n",
            "Transition Probabilities:\n",
            "/s/: {'/s/': 0.1, '/p/': 0.8, '/ie:/': 0.1, '/tʃ/': 0.0}\n",
            "/p/: {'/s/': 0.0, '/p/': 0.1, '/ie:/': 0.8, '/tʃ/': 0.1}\n",
            "/ie:/: {'/s/': 0.0, '/p/': 0.0, '/ie:/': 0.2, '/tʃ/': 0.8}\n",
            "/tʃ/: {'/s/': 0.2, '/p/': 0.0, '/ie:/': 0.0, '/tʃ/': 0.8}\n",
            "\n",
            "Emission Probabilities:\n",
            "/s/: {'Energy': 0.7, 'Pitch': 0.2, 'Duration': 0.1}\n",
            "/p/: {'Energy': 0.5, 'Pitch': 0.3, 'Duration': 0.2}\n",
            "/ie:/: {'Energy': 0.3, 'Pitch': 0.5, 'Duration': 0.2}\n",
            "/tʃ/: {'Energy': 0.4, 'Pitch': 0.4, 'Duration': 0.2}\n",
            "\n",
            "Generated Phoneme Sequence:\n",
            "['/s/', '/p/', '/ie:/', '/tʃ/']\n",
            "\n",
            "Generated Observation Sequence:\n",
            "['Pitch', 'Energy', 'Energy']\n"
          ]
        }
      ]
    },
    {
      "cell_type": "markdown",
      "source": [
        "Initial Probabilities\n",
        "* The model starts with the phoneme /s/ since its initial probability is 1.0 (certainty in starting with /s/), while other phonemes (/p/, /ie:/, /tʃ/) have a 0.0 probability and cannot be selected initially.\n",
        "The sequence starts with the phoneme /s/ because it's the only phoneme allowed by the initial probabilities.\n",
        "\n",
        "Transition Probabilities\n",
        "* After starting with /s/, the model will transition to one of the next phonemes based on transition probabilities:\n",
        "          * From /s/, the possible transitions are:\n",
        "          * 0.1 probability to /s/ (stay with /s/),\n",
        "          * 0.8 probability to /p/ (move to /p/),\n",
        "          * 0.1 probability to /ie:/ (move to /ie:/),\n",
        "          * 0.0 probability to /tʃ/ (cannot transition to /tʃ/ from /s/)\n",
        "      * The model transitions to /p/ because it has the highest probability (0.8).\n",
        "* From /p/, the model can transition as follows:\n",
        "\n",
        "        * 0.1 probability to /s/ (back to /s/),\n",
        "        * 0.1 probability to /p/ (stay with /p/),\n",
        "        * 0.8 probability to /ie:/ (move to /ie:/),\n",
        "        * 0.1 probability to /tʃ/ (move to /tʃ/).v\n",
        "    * The model transitions to /ie:/ based on the highest probability (0.8).\n",
        "* From /ie:/, the possible transitions are:\n",
        "\n",
        "      * 0.2 probability to /ie:/ (stay with /ie:/),\n",
        "      * 0.8 probability to /tʃ/ (move to /tʃ/).\n",
        "  * The model transitions to /tʃ/ because the probability of transitioning to /tʃ/ (0.8) is higher.\n",
        "  "
      ],
      "metadata": {
        "id": "Wo-0sKsQPhoE"
      }
    }
  ]
}