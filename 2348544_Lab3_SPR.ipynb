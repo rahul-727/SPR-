{
 "cells": [
  {
   "cell_type": "code",
   "execution_count": 1,
   "metadata": {},
   "outputs": [
    {
     "name": "stdout",
     "output_type": "stream",
     "text": [
      "Speak something\n",
      "Listening for 5 seconds...\n",
      "Recognizing...\n",
      "Speech recognized: \"hello\"\n",
      "Speech successfully converted to text!\n"
     ]
    }
   ],
   "source": [
    "import speech_recognition as sr\n",
    "\n",
    "# Initialize recognizer\n",
    "recognizer = sr.Recognizer()\n",
    "\n",
    "# Function to capture speech and convert to text\n",
    "def recognize_speech():\n",
    "    # Use the default microphone as the audio source\n",
    "    with sr.Microphone() as source:\n",
    "        print(\"Speak something\")\n",
    "        recognizer.adjust_for_ambient_noise(source)  # Adjust for background noise\n",
    "        print(\"Listening for 5 seconds...\")\n",
    "        # Listen for speech, but limit the listening time to 5 seconds\n",
    "        audio = recognizer.listen(source, timeout=5, phrase_time_limit=5)\n",
    "\n",
    "        try:\n",
    "            print(\"Recognizing...\")\n",
    "            # Recognize speech using Google's speech recognition\n",
    "            recognized_text = recognizer.recognize_google(audio)\n",
    "            print(f'Speech recognized: \"{recognized_text}\"')\n",
    "            print(\"Speech successfully converted to text!\")\n",
    "        except sr.UnknownValueError:\n",
    "            # Handle case where recognizer doesn't understand the audio\n",
    "            print(\"Speech Recognition could not understand audio, Please try speaking more clearly\")\n",
    "        except sr.RequestError as e:\n",
    "            # Handle case where there is a request error (e.g., no internet connection)\n",
    "            print(f\"Could not request results from Speech Recognition service; {e}\")\n",
    "\n",
    "# Call the function\n",
    "recognize_speech()"
   ]
  }
 ],
 "metadata": {
  "kernelspec": {
   "display_name": "Python 3",
   "language": "python",
   "name": "python3"
  },
  "language_info": {
   "codemirror_mode": {
    "name": "ipython",
    "version": 3
   },
   "file_extension": ".py",
   "mimetype": "text/x-python",
   "name": "python",
   "nbconvert_exporter": "python",
   "pygments_lexer": "ipython3",
   "version": "3.12.2"
  }
 },
 "nbformat": 4,
 "nbformat_minor": 2
}
